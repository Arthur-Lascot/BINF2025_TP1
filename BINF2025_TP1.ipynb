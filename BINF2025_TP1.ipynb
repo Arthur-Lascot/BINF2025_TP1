{
 "cells": [
  {
   "cell_type": "markdown",
   "metadata": {
    "id": "BzSC6lZgtid-"
   },
   "source": [
    "# Exercice 0 : échauffement"
   ]
  },
  {
   "cell_type": "markdown",
   "metadata": {
    "id": "aZ1yf1CtsnPk"
   },
   "source": [
    "Dans ce TP nous allons représenter des distributions de données via différents types de graphes.\n",
    "\n",
    "Q1: Expliquez ce que représente et quand utiliser :\n",
    "\n",
    "\n",
    "*   un scatterplot\n",
    "*   un barplot\n",
    "*   un boxplot\n",
    "*   un violinplot\n",
    "*   un histogramme\n",
    "\n",
    "\n",
    "\n",
    "\n"
   ]
  },
  {
   "cell_type": "markdown",
   "metadata": {
    "id": "VyvImAWts4_h"
   },
   "source": [
    "```markdown\n",
    "Un scatterplot représente et peut être utilisé pour représenter une corrélation entre deux variables.\n",
    "\n",
    "Un barplot sert à représenter des comparaisons numérique entre des catégories et peut être utilisé pour montrer explicitement les différence numérique (ex : nb de personne) entre les catégories (ex : différentes majeurs).\n",
    "\n",
    "Un boxplot représente la distribution des données dans leur quartiles et peut être utilisé pour montrer la dispertion d'un échantillion.\n",
    "\n",
    "Un violinplot représente la distribution des données avec la densité de probabilité et peut être utilisé pour montrer si la distribution des donnée est multimodale.\n",
    "\n",
    "Un histogramme représente la distribution d'une variable continue et sont utilisé pour voir la forme global d'un jeu de données.\n",
    "```"
   ]
  },
  {
   "cell_type": "markdown",
   "metadata": {
    "id": "Wf7mamjQt2aQ"
   },
   "source": [
    "# Exercice 1 : description de la base genbank"
   ]
  },
  {
   "cell_type": "markdown",
   "metadata": {
    "id": "Qtp_GvGzs8xr"
   },
   "source": [
    "La base de données genbank est un des principaux dépots de données de génomes, elle gérée par le NCBI Américain (National Center for Biotechnology Information).\n",
    "\n",
    "Dans cet exercice, allons étudier le contenu général de cette base de données en utilisant les fichiers de résumés."
   ]
  },
  {
   "cell_type": "markdown",
   "metadata": {
    "id": "hOS03wmjyxWX"
   },
   "source": [
    "---"
   ]
  },
  {
   "cell_type": "markdown",
   "metadata": {
    "id": "V3_Ytl_AypPn"
   },
   "source": [
    "Note technique : dans colab, vous pouvez monter votre google drive avec le code suivant :"
   ]
  },
  {
   "cell_type": "code",
   "execution_count": null,
   "metadata": {
    "id": "mcpOIXziyvIt"
   },
   "outputs": [],
   "source": [
    "from google.colab import drive\n",
    "drive.mount('/content/gdrive')"
   ]
  },
  {
   "cell_type": "markdown",
   "metadata": {
    "id": "xf_z3wkSywXr"
   },
   "source": [
    "---"
   ]
  },
  {
   "cell_type": "markdown",
   "metadata": {
    "id": "Y_neXxKUtaq3"
   },
   "source": [
    "Q1. Téléchargez les fichier \"overview.txt\" et \"README\" disponibles ici :\n",
    "\n",
    " https://ftp.ncbi.nlm.nih.gov/genomes/GENOME_REPORTS/\n",
    "\n"
   ]
  },
  {
   "cell_type": "markdown",
   "metadata": {
    "id": "80dH8XR6uK1N"
   },
   "source": [
    "Q2. Quel est le format du fichier \"overview.txt\" ?"
   ]
  },
  {
   "cell_type": "markdown",
   "metadata": {
    "id": "SGowRH9cui_e"
   },
   "source": [
    "```markdown\n",
    "Le fichier overview.txt est un tableau\n",
    "```"
   ]
  },
  {
   "cell_type": "markdown",
   "metadata": {
    "id": "R4m65wC5ufPL"
   },
   "source": [
    "Q3. Utilisez le fichier README pour comprendre ce que chaque colonne représente."
   ]
  },
  {
   "cell_type": "markdown",
   "metadata": {
    "id": "JJHy3UDRul7J"
   },
   "source": [
    "```markdown\n",
    "Les colonnes représentent :\n",
    "\n",
    "Organism/Name  Organism name at the species level according \n",
    "Kingdom        Taxonomic division: Archaea, Bacteria, Eukaryota, or Viruses \n",
    "Group                  Commonly used organism groups \n",
    "                       Eukaryota: Animals, Fungi, Plants, Protists;                           \n",
    "                       Prokaryota: group corresponds to phylum; \n",
    "                       Viruses: groups defined as the first level (not ranked)                        \n",
    "                       below the kingdom of Viruses\n",
    "\n",
    "SubGroup       NCBI Taxonomy level below group:\n",
    "                       Eukaryota: Mammals, Birds, Fishes, Flatworms, Insects, Amphibians\n",
    "                       Reptiles, Roundworms, Ascomycetes, Basidiomycetes, \n",
    "                       Land Plants, Green Algae, Apicomplexans, Kinetoplasts; \n",
    "                       Prokaryota: sub-groups correspond to class level; \n",
    "                       Viruses: sub-groups correspond to families including floating genera \n",
    "\n",
    "Size (Mb)      Estimated genome size \n",
    "Chrs           Number of chromosomes \n",
    "Organelles     Number of the organelles \n",
    "Plasmids       Number of plasmids \n",
    "BioProjects    Number of genome sequencing projects\n",
    "```"
   ]
  },
  {
   "cell_type": "markdown",
   "metadata": {
    "id": "K84ckFQvundb"
   },
   "source": [
    "## Organisation de la base de données"
   ]
  },
  {
   "cell_type": "markdown",
   "metadata": {
    "id": "SaU5LeGjuxC_"
   },
   "source": [
    "Q4. Combien d’organismes sont présents ?"
   ]
  },
  {
   "cell_type": "code",
   "execution_count": 103,
   "metadata": {
    "colab": {
     "base_uri": "https://localhost:8080/"
    },
    "id": "kLpubavwu2UX",
    "outputId": "254be984-a102-41f7-95b0-82f08784ef77"
   },
   "outputs": [
    {
     "name": "stdout",
     "output_type": "stream",
     "text": [
      "87888\n"
     ]
    }
   ],
   "source": [
    "import os\n",
    "import matplotlib.pyplot as plt\n",
    "import numpy as np\n",
    "\n",
    "fileName = r\"/home/lascot/Documents/sante/BIO-INFO/tp1/BINF2025_TP1/overview.txt\"\n",
    "file = os.open(fileName, os.O_RDONLY)\n",
    "count = 0\n",
    "names = []\n",
    "data = []\n",
    "with open(fileName, 'r') as file:\n",
    "    for ii,line in enumerate(file):\n",
    "        if (ii == 0):\n",
    "            continue\n",
    "        data.append(line.split('\\t'))\n",
    "        count += 1\n",
    "\n",
    "data = np.array(data)\n",
    "print(count)"
   ]
  },
  {
   "cell_type": "markdown",
   "metadata": {
    "id": "8YuUcejtu3s7"
   },
   "source": [
    "### Royaumes"
   ]
  },
  {
   "cell_type": "markdown",
   "metadata": {
    "id": "RRVqMrRvvGyk"
   },
   "source": [
    "Q5. Qu'est-ce qu'un royaume ?"
   ]
  },
  {
   "cell_type": "markdown",
   "metadata": {
    "id": "cgAZIG0_vJ2D"
   },
   "source": [
    "```markdown\n",
    "Un royaume est un niveau de classification.\n",
    "```"
   ]
  },
  {
   "cell_type": "markdown",
   "metadata": {
    "id": "WJjTWKxIvLbU"
   },
   "source": [
    "Q6. Combien de royaumes sont présents dans la base ?"
   ]
  },
  {
   "cell_type": "markdown",
   "metadata": {
    "id": "h5aS5XsqvRSp"
   },
   "source": [
    "```markdown\n",
    "Quatre royaumes sont présents dans la base.\n",
    "```"
   ]
  },
  {
   "cell_type": "markdown",
   "metadata": {
    "id": "YII_sIxavS3t"
   },
   "source": [
    "Q7. Affichez le nombre d’organismes pour chaque royaume."
   ]
  },
  {
   "cell_type": "code",
   "execution_count": 39,
   "metadata": {
    "id": "xxvVXIVKvZZP"
   },
   "outputs": [
    {
     "name": "stdout",
     "output_type": "stream",
     "text": [
      "Archaea : 2263\n",
      "Bacteria : 37492\n",
      "Eukaryota : 15560\n",
      "Viruses : 32573\n"
     ]
    }
   ],
   "source": [
    "names = ['Archaea', 'Bacteria', 'Eukaryota', 'Viruses']\n",
    "royaumes = [0,0,0,0]\n",
    "with open(fileName, 'r') as file:\n",
    "    for ii,line in enumerate(file):\n",
    "        if ii == 0 : #ligne du tableau\n",
    "            continue\n",
    "        royaume = line.split('\\t')[1]\n",
    "        royaumes[names.index(royaume)] += 1\n",
    "        \n",
    "for ii,name in enumerate(names):\n",
    "    print(name + ' : ' + str(royaumes[ii]))"
   ]
  },
  {
   "cell_type": "markdown",
   "metadata": {
    "id": "UnM-DgkPva-C"
   },
   "source": [
    "### Groupes"
   ]
  },
  {
   "cell_type": "markdown",
   "metadata": {
    "id": "KYmuKnmEve6V"
   },
   "source": [
    "Q8. Qu’est-ce qu’un groupe ?"
   ]
  },
  {
   "cell_type": "markdown",
   "metadata": {
    "id": "l8096_1CviTm"
   },
   "source": [
    "```markdown\n",
    "Un groupe est notre deuxième niveau de classification\n",
    "```"
   ]
  },
  {
   "cell_type": "markdown",
   "metadata": {
    "id": "4IB6jZImvj_-"
   },
   "source": [
    "Q9. Combien de groupes sont présents par royaume ?"
   ]
  },
  {
   "cell_type": "markdown",
   "metadata": {
    "id": "H6kcWMFnvsfu"
   },
   "source": []
  },
  {
   "cell_type": "code",
   "execution_count": 26,
   "metadata": {
    "id": "b3iqxuf3vrW0"
   },
   "outputs": [
    {
     "name": "stdout",
     "output_type": "stream",
     "text": [
      "Archaea : 11\n",
      "Bacteria : 37\n",
      "Eukaryota : 5\n",
      "Viruses : 8\n"
     ]
    }
   ],
   "source": [
    "royaumes = [[], [], [], []]\n",
    "with open(fileName, 'r') as file:\n",
    "    for ii,line in enumerate(file):\n",
    "        if ii == 0 : #ligne du tableau\n",
    "            continue\n",
    "        content = line.split('\\t')\n",
    "        royaume = content[1]\n",
    "        groupe = content[2]\n",
    "        royaume = royaumes[names.index(royaume)]\n",
    "        if groupe not in royaume:\n",
    "            royaume.append(groupe)\n",
    "for ii,name in enumerate(names):\n",
    "    print(name + ' : ' + str(len(royaumes[ii])))"
   ]
  },
  {
   "cell_type": "markdown",
   "metadata": {
    "id": "vjSlkTyUvvvQ"
   },
   "source": [
    "Q10. Affichez pour chaque royaume le nombre d’organismes par groupe."
   ]
  },
  {
   "cell_type": "code",
   "execution_count": 36,
   "metadata": {
    "id": "dlBYqoZNv2Dj"
   },
   "outputs": [
    {
     "data": {
      "text/plain": [
       "{'Archaea': {'TACK group': 408,\n",
       "  'Candidatus Thermoplasmatota': 432,\n",
       "  'Euryarchaeota': 1035,\n",
       "  'Other': 1,\n",
       "  'unclassified Archaea': 57,\n",
       "  'Asgard group': 61,\n",
       "  'DPANN group': 249,\n",
       "  'Candidatus Hadarchaeota': 8,\n",
       "  'Candidatus Hydrothermarchaeota': 6,\n",
       "  'Halobacteriota': 1,\n",
       "  'environmental samples': 5},\n",
       " 'Bacteria': {'Terrabacteria group': 13337,\n",
       "  'unclassified Bacteria': 346,\n",
       "  'FCB group': 5037,\n",
       "  'Pseudomonadota': 11098,\n",
       "  'Acidobacteriota': 256,\n",
       "  'Synergistota': 85,\n",
       "  'Bacteria incertae sedis': 3872,\n",
       "  'PVC group': 1091,\n",
       "  'Myxococcota': 146,\n",
       "  'Campylobacterota': 256,\n",
       "  'Thermodesulfobacteriota': 568,\n",
       "  'Spirochaetota': 344,\n",
       "  'Aquificota': 42,\n",
       "  'Thermotogota': 72,\n",
       "  'Atribacterota': 43,\n",
       "  'Other': 2,\n",
       "  'Bdellovibrionota': 122,\n",
       "  'delta/epsilon subdivisions': 288,\n",
       "  'Caldisericota/Cryosericota group': 21,\n",
       "  'Deferribacterota': 27,\n",
       "  'Calditrichota': 10,\n",
       "  'Candidatus Lernaellota': 2,\n",
       "  'Elusimicrobiota': 118,\n",
       "  'Fusobacteriota': 79,\n",
       "  'Candidatus Deferrimicrobiota': 2,\n",
       "  'Nitrospinota/Tectimicrobiota group': 39,\n",
       "  'Candidatus Hinthialibacterota': 2,\n",
       "  'Candidatus Krumholzibacteriota': 4,\n",
       "  'Nitrospirota': 156,\n",
       "  'Candidatus Moduliflexota': 2,\n",
       "  'Candidatus Tharpellota': 2,\n",
       "  'Chrysiogenota': 6,\n",
       "  'Coprothermobacterota': 5,\n",
       "  'Dictyoglomota': 5,\n",
       "  'environmental samples': 4,\n",
       "  'Thermodesulfobiota': 2,\n",
       "  'Thermosulfidibacterota': 1},\n",
       " 'Eukaryota': {'Fungi': 5213,\n",
       "  'Plants': 1758,\n",
       "  'Protists': 664,\n",
       "  'Animals': 7789,\n",
       "  'Other': 136},\n",
       " 'Viruses': {'Other': 30533,\n",
       "  'unclassified viruses': 684,\n",
       "  'unclassified phages': 1233,\n",
       "  'unclassified virophages': 3,\n",
       "  'unclassified archaeal viruses': 15,\n",
       "  'dsRNA viruses': 30,\n",
       "  'Satellites': 65,\n",
       "  'Deltavirus': 10}}"
      ]
     },
     "execution_count": 36,
     "metadata": {},
     "output_type": "execute_result"
    }
   ],
   "source": [
    "royaumes = {\"Archaea\" : {}, \"Bacteria\" : {}, \"Eukaryota\" : {}, \"Viruses\" :{}}\n",
    "with open(fileName, 'r') as file:\n",
    "    for ii,line in enumerate(file):\n",
    "        if ii == 0 : #ligne du tableau\n",
    "            continue\n",
    "        content = line.split('\\t')\n",
    "        royaume = content[1]\n",
    "        groupe = content[2]\n",
    "        if groupe in royaumes[royaume]:\n",
    "            royaumes[royaume][groupe] += 1\n",
    "        else :\n",
    "            royaumes[royaume][groupe] = 1\n",
    "royaumes"
   ]
  },
  {
   "cell_type": "markdown",
   "metadata": {
    "id": "kgzvx6tRwBwt"
   },
   "source": [
    "## Génomes"
   ]
  },
  {
   "cell_type": "markdown",
   "metadata": {
    "id": "4uAGGteWwHAQ"
   },
   "source": [
    "Q11. Affichez la distribution des tailles de génomes sur toute la base de données, utilisez un boxplot ou un violinplot (avec axe en log pour y voir quelque chose)."
   ]
  },
  {
   "cell_type": "code",
   "execution_count": 108,
   "metadata": {
    "id": "FoQ74OYSwTBM"
   },
   "outputs": [
    {
     "ename": "IndexError",
     "evalue": "too many indices for array: array is 0-dimensional, but 1 were indexed",
     "output_type": "error",
     "traceback": [
      "\u001b[0;31m---------------------------------------------------------------------------\u001b[0m",
      "\u001b[0;31mIndexError\u001b[0m                                Traceback (most recent call last)",
      "\u001b[0;32m/tmp/ipykernel_3597/869595731.py\u001b[0m in \u001b[0;36m<module>\u001b[0;34m\u001b[0m\n\u001b[1;32m      3\u001b[0m \u001b[0mdata_\u001b[0m \u001b[0;34m=\u001b[0m \u001b[0mdata_\u001b[0m\u001b[0;34m.\u001b[0m\u001b[0mastype\u001b[0m\u001b[0;34m(\u001b[0m\u001b[0mfloat\u001b[0m\u001b[0;34m)\u001b[0m\u001b[0;34m\u001b[0m\u001b[0;34m\u001b[0m\u001b[0m\n\u001b[1;32m      4\u001b[0m \u001b[0mplt\u001b[0m\u001b[0;34m.\u001b[0m\u001b[0mfigure\u001b[0m\u001b[0;34m(\u001b[0m\u001b[0;34m)\u001b[0m\u001b[0;34m\u001b[0m\u001b[0;34m\u001b[0m\u001b[0m\n\u001b[0;32m----> 5\u001b[0;31m \u001b[0mplt\u001b[0m\u001b[0;34m.\u001b[0m\u001b[0mviolinplot\u001b[0m\u001b[0;34m(\u001b[0m\u001b[0;34m[\u001b[0m\u001b[0mnp\u001b[0m\u001b[0;34m.\u001b[0m\u001b[0marray\u001b[0m\u001b[0;34m(\u001b[0m\u001b[0mdata_\u001b[0m\u001b[0;34m)\u001b[0m\u001b[0;34m]\u001b[0m\u001b[0;34m)\u001b[0m\u001b[0;34m\u001b[0m\u001b[0;34m\u001b[0m\u001b[0m\n\u001b[0m\u001b[1;32m      6\u001b[0m \u001b[0mplt\u001b[0m\u001b[0;34m.\u001b[0m\u001b[0myscale\u001b[0m\u001b[0;34m(\u001b[0m\u001b[0;34m'log'\u001b[0m\u001b[0;34m)\u001b[0m\u001b[0;34m\u001b[0m\u001b[0;34m\u001b[0m\u001b[0m\n\u001b[1;32m      7\u001b[0m \u001b[0mplt\u001b[0m\u001b[0;34m.\u001b[0m\u001b[0mshow\u001b[0m\u001b[0;34m(\u001b[0m\u001b[0;34m)\u001b[0m\u001b[0;34m\u001b[0m\u001b[0;34m\u001b[0m\u001b[0m\n",
      "\u001b[0;32m/usr/lib/python3/dist-packages/matplotlib/pyplot.py\u001b[0m in \u001b[0;36mviolinplot\u001b[0;34m(dataset, positions, vert, widths, showmeans, showextrema, showmedians, quantiles, points, bw_method, data)\u001b[0m\n\u001b[1;32m   2985\u001b[0m         \u001b[0mshowmeans\u001b[0m\u001b[0;34m=\u001b[0m\u001b[0;32mFalse\u001b[0m\u001b[0;34m,\u001b[0m \u001b[0mshowextrema\u001b[0m\u001b[0;34m=\u001b[0m\u001b[0;32mTrue\u001b[0m\u001b[0;34m,\u001b[0m \u001b[0mshowmedians\u001b[0m\u001b[0;34m=\u001b[0m\u001b[0;32mFalse\u001b[0m\u001b[0;34m,\u001b[0m\u001b[0;34m\u001b[0m\u001b[0;34m\u001b[0m\u001b[0m\n\u001b[1;32m   2986\u001b[0m         quantiles=None, points=100, bw_method=None, *, data=None):\n\u001b[0;32m-> 2987\u001b[0;31m     return gca().violinplot(\n\u001b[0m\u001b[1;32m   2988\u001b[0m         \u001b[0mdataset\u001b[0m\u001b[0;34m,\u001b[0m \u001b[0mpositions\u001b[0m\u001b[0;34m=\u001b[0m\u001b[0mpositions\u001b[0m\u001b[0;34m,\u001b[0m \u001b[0mvert\u001b[0m\u001b[0;34m=\u001b[0m\u001b[0mvert\u001b[0m\u001b[0;34m,\u001b[0m \u001b[0mwidths\u001b[0m\u001b[0;34m=\u001b[0m\u001b[0mwidths\u001b[0m\u001b[0;34m,\u001b[0m\u001b[0;34m\u001b[0m\u001b[0;34m\u001b[0m\u001b[0m\n\u001b[1;32m   2989\u001b[0m         \u001b[0mshowmeans\u001b[0m\u001b[0;34m=\u001b[0m\u001b[0mshowmeans\u001b[0m\u001b[0;34m,\u001b[0m \u001b[0mshowextrema\u001b[0m\u001b[0;34m=\u001b[0m\u001b[0mshowextrema\u001b[0m\u001b[0;34m,\u001b[0m\u001b[0;34m\u001b[0m\u001b[0;34m\u001b[0m\u001b[0m\n",
      "\u001b[0;32m/usr/lib/python3/dist-packages/matplotlib/__init__.py\u001b[0m in \u001b[0;36minner\u001b[0;34m(ax, data, *args, **kwargs)\u001b[0m\n\u001b[1;32m   1414\u001b[0m     \u001b[0;32mdef\u001b[0m \u001b[0minner\u001b[0m\u001b[0;34m(\u001b[0m\u001b[0max\u001b[0m\u001b[0;34m,\u001b[0m \u001b[0;34m*\u001b[0m\u001b[0margs\u001b[0m\u001b[0;34m,\u001b[0m \u001b[0mdata\u001b[0m\u001b[0;34m=\u001b[0m\u001b[0;32mNone\u001b[0m\u001b[0;34m,\u001b[0m \u001b[0;34m**\u001b[0m\u001b[0mkwargs\u001b[0m\u001b[0;34m)\u001b[0m\u001b[0;34m:\u001b[0m\u001b[0;34m\u001b[0m\u001b[0;34m\u001b[0m\u001b[0m\n\u001b[1;32m   1415\u001b[0m         \u001b[0;32mif\u001b[0m \u001b[0mdata\u001b[0m \u001b[0;32mis\u001b[0m \u001b[0;32mNone\u001b[0m\u001b[0;34m:\u001b[0m\u001b[0;34m\u001b[0m\u001b[0;34m\u001b[0m\u001b[0m\n\u001b[0;32m-> 1416\u001b[0;31m             \u001b[0;32mreturn\u001b[0m \u001b[0mfunc\u001b[0m\u001b[0;34m(\u001b[0m\u001b[0max\u001b[0m\u001b[0;34m,\u001b[0m \u001b[0;34m*\u001b[0m\u001b[0mmap\u001b[0m\u001b[0;34m(\u001b[0m\u001b[0msanitize_sequence\u001b[0m\u001b[0;34m,\u001b[0m \u001b[0margs\u001b[0m\u001b[0;34m)\u001b[0m\u001b[0;34m,\u001b[0m \u001b[0;34m**\u001b[0m\u001b[0mkwargs\u001b[0m\u001b[0;34m)\u001b[0m\u001b[0;34m\u001b[0m\u001b[0;34m\u001b[0m\u001b[0m\n\u001b[0m\u001b[1;32m   1417\u001b[0m \u001b[0;34m\u001b[0m\u001b[0m\n\u001b[1;32m   1418\u001b[0m         \u001b[0mbound\u001b[0m \u001b[0;34m=\u001b[0m \u001b[0mnew_sig\u001b[0m\u001b[0;34m.\u001b[0m\u001b[0mbind\u001b[0m\u001b[0;34m(\u001b[0m\u001b[0max\u001b[0m\u001b[0;34m,\u001b[0m \u001b[0;34m*\u001b[0m\u001b[0margs\u001b[0m\u001b[0;34m,\u001b[0m \u001b[0;34m**\u001b[0m\u001b[0mkwargs\u001b[0m\u001b[0;34m)\u001b[0m\u001b[0;34m\u001b[0m\u001b[0;34m\u001b[0m\u001b[0m\n",
      "\u001b[0;32m/usr/lib/python3/dist-packages/matplotlib/axes/_axes.py\u001b[0m in \u001b[0;36mviolinplot\u001b[0;34m(self, dataset, positions, vert, widths, showmeans, showextrema, showmedians, quantiles, points, bw_method)\u001b[0m\n\u001b[1;32m   7942\u001b[0m         vpstats = cbook.violin_stats(dataset, _kde_method, points=points,\n\u001b[1;32m   7943\u001b[0m                                      quantiles=quantiles)\n\u001b[0;32m-> 7944\u001b[0;31m         return self.violin(vpstats, positions=positions, vert=vert,\n\u001b[0m\u001b[1;32m   7945\u001b[0m                            \u001b[0mwidths\u001b[0m\u001b[0;34m=\u001b[0m\u001b[0mwidths\u001b[0m\u001b[0;34m,\u001b[0m \u001b[0mshowmeans\u001b[0m\u001b[0;34m=\u001b[0m\u001b[0mshowmeans\u001b[0m\u001b[0;34m,\u001b[0m\u001b[0;34m\u001b[0m\u001b[0;34m\u001b[0m\u001b[0m\n\u001b[1;32m   7946\u001b[0m                            showextrema=showextrema, showmedians=showmedians)\n",
      "\u001b[0;32m/usr/lib/python3/dist-packages/matplotlib/axes/_axes.py\u001b[0m in \u001b[0;36mviolin\u001b[0;34m(self, vpstats, positions, vert, widths, showmeans, showextrema, showmedians)\u001b[0m\n\u001b[1;32m   8086\u001b[0m             \u001b[0mvals\u001b[0m \u001b[0;34m=\u001b[0m \u001b[0mnp\u001b[0m\u001b[0;34m.\u001b[0m\u001b[0marray\u001b[0m\u001b[0;34m(\u001b[0m\u001b[0mstats\u001b[0m\u001b[0;34m[\u001b[0m\u001b[0;34m'vals'\u001b[0m\u001b[0;34m]\u001b[0m\u001b[0;34m)\u001b[0m\u001b[0;34m\u001b[0m\u001b[0;34m\u001b[0m\u001b[0m\n\u001b[1;32m   8087\u001b[0m             \u001b[0mvals\u001b[0m \u001b[0;34m=\u001b[0m \u001b[0;36m0.5\u001b[0m \u001b[0;34m*\u001b[0m \u001b[0mwidth\u001b[0m \u001b[0;34m*\u001b[0m \u001b[0mvals\u001b[0m \u001b[0;34m/\u001b[0m \u001b[0mvals\u001b[0m\u001b[0;34m.\u001b[0m\u001b[0mmax\u001b[0m\u001b[0;34m(\u001b[0m\u001b[0;34m)\u001b[0m\u001b[0;34m\u001b[0m\u001b[0;34m\u001b[0m\u001b[0m\n\u001b[0;32m-> 8088\u001b[0;31m             bodies += [fill(stats['coords'], -vals + pos, vals + pos,\n\u001b[0m\u001b[1;32m   8089\u001b[0m                             facecolor=fillcolor, alpha=0.3)]\n\u001b[1;32m   8090\u001b[0m             \u001b[0mmeans\u001b[0m\u001b[0;34m.\u001b[0m\u001b[0mappend\u001b[0m\u001b[0;34m(\u001b[0m\u001b[0mstats\u001b[0m\u001b[0;34m[\u001b[0m\u001b[0;34m'mean'\u001b[0m\u001b[0;34m]\u001b[0m\u001b[0;34m)\u001b[0m\u001b[0;34m\u001b[0m\u001b[0;34m\u001b[0m\u001b[0m\n",
      "\u001b[0;32m/usr/lib/python3/dist-packages/matplotlib/__init__.py\u001b[0m in \u001b[0;36minner\u001b[0;34m(ax, data, *args, **kwargs)\u001b[0m\n\u001b[1;32m   1414\u001b[0m     \u001b[0;32mdef\u001b[0m \u001b[0minner\u001b[0m\u001b[0;34m(\u001b[0m\u001b[0max\u001b[0m\u001b[0;34m,\u001b[0m \u001b[0;34m*\u001b[0m\u001b[0margs\u001b[0m\u001b[0;34m,\u001b[0m \u001b[0mdata\u001b[0m\u001b[0;34m=\u001b[0m\u001b[0;32mNone\u001b[0m\u001b[0;34m,\u001b[0m \u001b[0;34m**\u001b[0m\u001b[0mkwargs\u001b[0m\u001b[0;34m)\u001b[0m\u001b[0;34m:\u001b[0m\u001b[0;34m\u001b[0m\u001b[0;34m\u001b[0m\u001b[0m\n\u001b[1;32m   1415\u001b[0m         \u001b[0;32mif\u001b[0m \u001b[0mdata\u001b[0m \u001b[0;32mis\u001b[0m \u001b[0;32mNone\u001b[0m\u001b[0;34m:\u001b[0m\u001b[0;34m\u001b[0m\u001b[0;34m\u001b[0m\u001b[0m\n\u001b[0;32m-> 1416\u001b[0;31m             \u001b[0;32mreturn\u001b[0m \u001b[0mfunc\u001b[0m\u001b[0;34m(\u001b[0m\u001b[0max\u001b[0m\u001b[0;34m,\u001b[0m \u001b[0;34m*\u001b[0m\u001b[0mmap\u001b[0m\u001b[0;34m(\u001b[0m\u001b[0msanitize_sequence\u001b[0m\u001b[0;34m,\u001b[0m \u001b[0margs\u001b[0m\u001b[0;34m)\u001b[0m\u001b[0;34m,\u001b[0m \u001b[0;34m**\u001b[0m\u001b[0mkwargs\u001b[0m\u001b[0;34m)\u001b[0m\u001b[0;34m\u001b[0m\u001b[0;34m\u001b[0m\u001b[0m\n\u001b[0m\u001b[1;32m   1417\u001b[0m \u001b[0;34m\u001b[0m\u001b[0m\n\u001b[1;32m   1418\u001b[0m         \u001b[0mbound\u001b[0m \u001b[0;34m=\u001b[0m \u001b[0mnew_sig\u001b[0m\u001b[0;34m.\u001b[0m\u001b[0mbind\u001b[0m\u001b[0;34m(\u001b[0m\u001b[0max\u001b[0m\u001b[0;34m,\u001b[0m \u001b[0;34m*\u001b[0m\u001b[0margs\u001b[0m\u001b[0;34m,\u001b[0m \u001b[0;34m**\u001b[0m\u001b[0mkwargs\u001b[0m\u001b[0;34m)\u001b[0m\u001b[0;34m\u001b[0m\u001b[0;34m\u001b[0m\u001b[0m\n",
      "\u001b[0;32m/usr/lib/python3/dist-packages/matplotlib/axes/_axes.py\u001b[0m in \u001b[0;36mfill_betweenx\u001b[0;34m(self, y, x1, x2, where, step, interpolate, **kwargs)\u001b[0m\n\u001b[1;32m   5264\u001b[0m     def fill_betweenx(self, y, x1, x2=0, where=None,\n\u001b[1;32m   5265\u001b[0m                       step=None, interpolate=False, **kwargs):\n\u001b[0;32m-> 5266\u001b[0;31m         return self._fill_between_x_or_y(\n\u001b[0m\u001b[1;32m   5267\u001b[0m             \u001b[0;34m\"y\"\u001b[0m\u001b[0;34m,\u001b[0m \u001b[0my\u001b[0m\u001b[0;34m,\u001b[0m \u001b[0mx1\u001b[0m\u001b[0;34m,\u001b[0m \u001b[0mx2\u001b[0m\u001b[0;34m,\u001b[0m\u001b[0;34m\u001b[0m\u001b[0;34m\u001b[0m\u001b[0m\n\u001b[1;32m   5268\u001b[0m             where=where, interpolate=interpolate, step=step, **kwargs)\n",
      "\u001b[0;32m/usr/lib/python3/dist-packages/matplotlib/axes/_axes.py\u001b[0m in \u001b[0;36m_fill_between_x_or_y\u001b[0;34m(self, ind_dir, ind, dep1, dep2, where, interpolate, step, **kwargs)\u001b[0m\n\u001b[1;32m   5178\u001b[0m \u001b[0;34m\u001b[0m\u001b[0m\n\u001b[1;32m   5179\u001b[0m         \u001b[0mpolys\u001b[0m \u001b[0;34m=\u001b[0m \u001b[0;34m[\u001b[0m\u001b[0;34m]\u001b[0m\u001b[0;34m\u001b[0m\u001b[0;34m\u001b[0m\u001b[0m\n\u001b[0;32m-> 5180\u001b[0;31m         \u001b[0;32mfor\u001b[0m \u001b[0midx0\u001b[0m\u001b[0;34m,\u001b[0m \u001b[0midx1\u001b[0m \u001b[0;32min\u001b[0m \u001b[0mcbook\u001b[0m\u001b[0;34m.\u001b[0m\u001b[0mcontiguous_regions\u001b[0m\u001b[0;34m(\u001b[0m\u001b[0mwhere\u001b[0m\u001b[0;34m)\u001b[0m\u001b[0;34m:\u001b[0m\u001b[0;34m\u001b[0m\u001b[0;34m\u001b[0m\u001b[0m\n\u001b[0m\u001b[1;32m   5181\u001b[0m             \u001b[0mindslice\u001b[0m \u001b[0;34m=\u001b[0m \u001b[0mind\u001b[0m\u001b[0;34m[\u001b[0m\u001b[0midx0\u001b[0m\u001b[0;34m:\u001b[0m\u001b[0midx1\u001b[0m\u001b[0;34m]\u001b[0m\u001b[0;34m\u001b[0m\u001b[0;34m\u001b[0m\u001b[0m\n\u001b[1;32m   5182\u001b[0m             \u001b[0mdep1slice\u001b[0m \u001b[0;34m=\u001b[0m \u001b[0mdep1\u001b[0m\u001b[0;34m[\u001b[0m\u001b[0midx0\u001b[0m\u001b[0;34m:\u001b[0m\u001b[0midx1\u001b[0m\u001b[0;34m]\u001b[0m\u001b[0;34m\u001b[0m\u001b[0;34m\u001b[0m\u001b[0m\n",
      "\u001b[0;32m/usr/lib/python3/dist-packages/matplotlib/cbook/__init__.py\u001b[0m in \u001b[0;36mcontiguous_regions\u001b[0;34m(mask)\u001b[0m\n\u001b[1;32m   1260\u001b[0m \u001b[0;34m\u001b[0m\u001b[0m\n\u001b[1;32m   1261\u001b[0m     \u001b[0;31m# Find the indices of region changes, and correct offset\u001b[0m\u001b[0;34m\u001b[0m\u001b[0;34m\u001b[0m\u001b[0m\n\u001b[0;32m-> 1262\u001b[0;31m     \u001b[0midx\u001b[0m\u001b[0;34m,\u001b[0m \u001b[0;34m=\u001b[0m \u001b[0mnp\u001b[0m\u001b[0;34m.\u001b[0m\u001b[0mnonzero\u001b[0m\u001b[0;34m(\u001b[0m\u001b[0mmask\u001b[0m\u001b[0;34m[\u001b[0m\u001b[0;34m:\u001b[0m\u001b[0;34m-\u001b[0m\u001b[0;36m1\u001b[0m\u001b[0;34m]\u001b[0m \u001b[0;34m!=\u001b[0m \u001b[0mmask\u001b[0m\u001b[0;34m[\u001b[0m\u001b[0;36m1\u001b[0m\u001b[0;34m:\u001b[0m\u001b[0;34m]\u001b[0m\u001b[0;34m)\u001b[0m\u001b[0;34m\u001b[0m\u001b[0;34m\u001b[0m\u001b[0m\n\u001b[0m\u001b[1;32m   1263\u001b[0m     \u001b[0midx\u001b[0m \u001b[0;34m+=\u001b[0m \u001b[0;36m1\u001b[0m\u001b[0;34m\u001b[0m\u001b[0;34m\u001b[0m\u001b[0m\n\u001b[1;32m   1264\u001b[0m \u001b[0;34m\u001b[0m\u001b[0m\n",
      "\u001b[0;31mIndexError\u001b[0m: too many indices for array: array is 0-dimensional, but 1 were indexed"
     ]
    },
    {
     "data": {
      "image/png": "[encoded data removed]",
      "text/plain": [
       "<Figure size 432x288 with 1 Axes>"
      ]
     },
     "metadata": {
      "needs_background": "light"
     },
     "output_type": "display_data"
    }
   ],
   "source": [
    "data_ = data[:,4]\n",
    "data_ = data_[(data_ != '-')]\n",
    "data_ = data_.astype(float)\n",
    "plt.figure()\n",
    "plt.violinplot(data_)\n",
    "plt.yscale('log')\n",
    "plt.show()\n"
   ]
  },
  {
   "cell_type": "markdown",
   "metadata": {
    "id": "eIhDvcFQwm2n"
   },
   "source": [
    "Q12. Affichez la distribution par royaume."
   ]
  },
  {
   "cell_type": "code",
   "execution_count": null,
   "metadata": {
    "id": "BefoaM92wv-t"
   },
   "outputs": [],
   "source": [
    "#Votre code ici"
   ]
  },
  {
   "cell_type": "markdown",
   "metadata": {
    "id": "yY1MHFKGwxIr"
   },
   "source": [
    "Q13. Affichez la distribution par groupe pour chaque royaume."
   ]
  },
  {
   "cell_type": "code",
   "execution_count": null,
   "metadata": {
    "id": "EEsZ2FDLw3Sz"
   },
   "outputs": [],
   "source": [
    "#Votre code ici"
   ]
  },
  {
   "cell_type": "markdown",
   "metadata": {
    "id": "dM9aQnstxGLb"
   },
   "source": [
    "Q14. Pour chaque royaume, donnez le nom et la taille de l’organisme avec le plus petit génome."
   ]
  },
  {
   "cell_type": "code",
   "execution_count": null,
   "metadata": {
    "id": "zJgE62MtxP9a"
   },
   "outputs": [],
   "source": [
    "#Votre code ici"
   ]
  },
  {
   "cell_type": "markdown",
   "metadata": {
    "id": "ZtKBn_QTxRW5"
   },
   "source": [
    "Q15. Même chose mais pour l'organisme avec le plus grand génome."
   ]
  },
  {
   "cell_type": "code",
   "execution_count": null,
   "metadata": {
    "id": "qf5pbziExVeA"
   },
   "outputs": [],
   "source": [
    "#Votre code ici"
   ]
  },
  {
   "cell_type": "markdown",
   "metadata": {
    "id": "3yXU3wfixjlY"
   },
   "source": [
    "## Chromosomes"
   ]
  },
  {
   "cell_type": "markdown",
   "metadata": {
    "id": "d86DeXm6xl95"
   },
   "source": [
    "Q16. Affichez la distribution du nombre de chromosomes, sous la forme d’un histogramme, sur toute la base de données."
   ]
  },
  {
   "cell_type": "code",
   "execution_count": null,
   "metadata": {
    "id": "cVgVRe82xxDu"
   },
   "outputs": [],
   "source": [
    "#Votre code ici"
   ]
  },
  {
   "cell_type": "markdown",
   "metadata": {
    "id": "zI3OY3idxyRz"
   },
   "source": [
    "Q17. Même chose mais pour chaque royaume sous la forme d'un boxplot (ou violinplot)."
   ]
  },
  {
   "cell_type": "code",
   "execution_count": null,
   "metadata": {
    "id": "o_2RXVfZx9r9"
   },
   "outputs": [],
   "source": [
    "#Votre code ici"
   ]
  },
  {
   "cell_type": "markdown",
   "metadata": {
    "id": "26zBhs_sx_Yn"
   },
   "source": [
    "Q18. Qu’observez-vous ? Comment l’expliquez-vous ?"
   ]
  },
  {
   "cell_type": "markdown",
   "metadata": {
    "id": "i_pRzRMKyBr3"
   },
   "source": [
    "```markdown\n",
    "Votre réponse ici\n",
    "```"
   ]
  },
  {
   "cell_type": "markdown",
   "metadata": {
    "id": "-W14JDk6yILU"
   },
   "source": [
    "Q19. Pour les Eucaryotes uniquement, affichez la distribution du nombre de chromosomes sous la forme d’un histogramme."
   ]
  },
  {
   "cell_type": "code",
   "execution_count": null,
   "metadata": {
    "id": "9Z7y7SvoyUB7"
   },
   "outputs": [],
   "source": [
    "#Votre code ici"
   ]
  },
  {
   "cell_type": "markdown",
   "metadata": {
    "id": "fjZgGKMByVQq"
   },
   "source": [
    "Q20. Pour les Eucaryotes uniquement, affichez la taille des génomes en fonction du nombre de chromosomes, sous forme d'un graphe (scatter plot)."
   ]
  },
  {
   "cell_type": "code",
   "execution_count": null,
   "metadata": {
    "id": "TexCG9hSyoRN"
   },
   "outputs": [],
   "source": [
    "#Votre code ici"
   ]
  },
  {
   "cell_type": "markdown",
   "metadata": {
    "id": "FV02vWsyypa3"
   },
   "source": [
    "Q21. Qu’observez-vous ?"
   ]
  },
  {
   "cell_type": "markdown",
   "metadata": {
    "id": "SM7IZWZcyrJb"
   },
   "source": [
    "```markdown\n",
    "Votre réponse ici\n",
    "```"
   ]
  },
  {
   "cell_type": "markdown",
   "metadata": {
    "id": "NiPmjrf30cKM"
   },
   "source": [
    "## Plasmides"
   ]
  },
  {
   "cell_type": "markdown",
   "metadata": {
    "id": "_qSxLqcD0eDd"
   },
   "source": [
    "Q22. Qu'est-ce qu'un plasmide ?"
   ]
  },
  {
   "cell_type": "markdown",
   "metadata": {
    "id": "JQFkXghg0iXM"
   },
   "source": [
    "```markdown\n",
    "Votre réponse ici\n",
    "```"
   ]
  },
  {
   "cell_type": "markdown",
   "metadata": {
    "id": "5vh9uq-20jv_"
   },
   "source": [
    "Q23. Affichez le nombre moyen de plasmides par royaume, sous forme d'un barplot."
   ]
  },
  {
   "cell_type": "code",
   "execution_count": null,
   "metadata": {
    "id": "n2-rF_H40pEP"
   },
   "outputs": [],
   "source": [
    "#Votre code ici"
   ]
  },
  {
   "cell_type": "markdown",
   "metadata": {
    "id": "-Hu-eCtU02k-"
   },
   "source": [
    "Q24. Qu'observez-vous ?"
   ]
  },
  {
   "cell_type": "markdown",
   "metadata": {
    "id": "WkTWMBr5058t"
   },
   "source": [
    "```markdown\n",
    "Votre réponse ici\n",
    "```"
   ]
  },
  {
   "cell_type": "markdown",
   "metadata": {
    "id": "-FGOVzG71Bpd"
   },
   "source": [
    "## Projets"
   ]
  },
  {
   "cell_type": "markdown",
   "metadata": {
    "id": "_KT0WqxQ1D5L"
   },
   "source": [
    "Q25. Qu'est-ce qu'un projet ?"
   ]
  },
  {
   "cell_type": "markdown",
   "metadata": {
    "id": "2CT6wDfL1HAA"
   },
   "source": [
    "```markdown\n",
    "Votre réponse ici\n",
    "```"
   ]
  },
  {
   "cell_type": "markdown",
   "metadata": {
    "id": "oyB0YYcr1IWI"
   },
   "source": [
    "Q26. Affichez le nombre de projets moyen par organisme pour chaque royaume, sous forme d'un barplot."
   ]
  },
  {
   "cell_type": "code",
   "execution_count": null,
   "metadata": {
    "id": "R-F83W0B1RK5"
   },
   "outputs": [],
   "source": [
    "#Votre code ici"
   ]
  },
  {
   "cell_type": "markdown",
   "metadata": {
    "id": "I0smAhux1UVu"
   },
   "source": [
    "Q27. Combien d'organismes ont 0 projets ?"
   ]
  },
  {
   "cell_type": "code",
   "execution_count": null,
   "metadata": {
    "id": "D0ftzo5v1Yhg"
   },
   "outputs": [],
   "source": [
    "#Votre code ici"
   ]
  },
  {
   "cell_type": "markdown",
   "metadata": {
    "id": "DWe4pEPk1Zh4"
   },
   "source": [
    "Q28. Combien d'organismes ont > 1 projets ?"
   ]
  },
  {
   "cell_type": "code",
   "execution_count": null,
   "metadata": {
    "id": "ufa4IZ4D1dzM"
   },
   "outputs": [],
   "source": [
    "#Votre code ici"
   ]
  },
  {
   "cell_type": "markdown",
   "metadata": {
    "id": "69GLhgJm1f6I"
   },
   "source": [
    "Q29. Affichez le nom et nombre du TOP 5 des organismes possédant le plus de projets."
   ]
  },
  {
   "cell_type": "code",
   "execution_count": null,
   "metadata": {
    "id": "sno2DqXD1mOU"
   },
   "outputs": [],
   "source": [
    "#Votre code ici"
   ]
  },
  {
   "cell_type": "markdown",
   "metadata": {
    "id": "cuver9rX1ofM"
   },
   "source": [
    "Q30. Expliquez rapidement pourquoi ces organismes sont les plus étudiés."
   ]
  },
  {
   "cell_type": "markdown",
   "metadata": {
    "id": "MZsDnE2j10cO"
   },
   "source": [
    "```markdown\n",
    "Votre réponse ici\n",
    "```"
   ]
  },
  {
   "cell_type": "markdown",
   "metadata": {
    "id": "lDmIuWXz18-J"
   },
   "source": [
    "# Exercice 3 : Gènes"
   ]
  },
  {
   "cell_type": "markdown",
   "metadata": {
    "id": "QCcmFeGf2BTn"
   },
   "source": [
    "Pour obtenir des informations plus précises sur les gènes contenus dans les différents organismes de genbank, nous allons travailler avec le fichier de résumé d'assemblage."
   ]
  },
  {
   "cell_type": "markdown",
   "metadata": {
    "id": "yVbG_vNb2OiI"
   },
   "source": [
    "Q1. Récupérez le fichier \"assembly_summary_genbank_historical.txt\" situé ici:\n",
    "https://ftp.ncbi.nlm.nih.gov/genomes/ASSEMBLY_REPORTS/\n",
    "\n",
    "(On utilise le fichier historique car il est plus petit, l’autre fichier fait >1GB)"
   ]
  },
  {
   "cell_type": "markdown",
   "metadata": {
    "id": "5DN-FBzu55j2"
   },
   "source": [
    "Q2. Qu'est-ce que le GC content ? Pourquoi est-il mesuré?"
   ]
  },
  {
   "cell_type": "markdown",
   "metadata": {
    "id": "1GdQhEom5-u7"
   },
   "source": [
    "```markdown\n",
    "Votre réponse ici\n",
    "```"
   ]
  },
  {
   "cell_type": "markdown",
   "metadata": {
    "id": "KsETs-jP2frR"
   },
   "source": [
    "Q3. Affichez la distribution du GC content dans tous les organismes de la liste, sous forme d'un violinplot."
   ]
  },
  {
   "cell_type": "code",
   "execution_count": null,
   "metadata": {
    "id": "etKTcPws3Qur"
   },
   "outputs": [],
   "source": [
    "#Votre code ici"
   ]
  },
  {
   "cell_type": "markdown",
   "metadata": {
    "id": "IBOOujQm3R1n"
   },
   "source": []
  },
  {
   "cell_type": "markdown",
   "metadata": {
    "id": "S-4AN7J85XZX"
   },
   "source": [
    "Q4. Qu'observez-vous ?"
   ]
  },
  {
   "cell_type": "markdown",
   "metadata": {
    "id": "ExvmSOL55aaj"
   },
   "source": [
    "```markdown\n",
    "Votre réponse ici\n",
    "```"
   ]
  },
  {
   "cell_type": "markdown",
   "metadata": {
    "id": "IuVawXI55bk0"
   },
   "source": [
    "Q5. Affichez le GC content en fonction de la taille du génome, sous forme de scatter plot."
   ]
  },
  {
   "cell_type": "code",
   "execution_count": null,
   "metadata": {
    "id": "u-h08VNY5pl8"
   },
   "outputs": [],
   "source": [
    "#Votre code ici"
   ]
  },
  {
   "cell_type": "markdown",
   "metadata": {
    "id": "bWa-pqkY5qcr"
   },
   "source": [
    "Q6. Qu'observez-vous ?"
   ]
  },
  {
   "cell_type": "markdown",
   "metadata": {
    "id": "h8KyylBE5sfv"
   },
   "source": [
    "```markdown\n",
    "Votre réponse ici\n",
    "```"
   ]
  },
  {
   "cell_type": "markdown",
   "metadata": {
    "id": "97dUv1eb6G9b"
   },
   "source": [
    "Q7. Affichez la distribution du nombre de gènes, choisissez le plot."
   ]
  },
  {
   "cell_type": "code",
   "execution_count": null,
   "metadata": {
    "id": "hsuftnKk6UKt"
   },
   "outputs": [],
   "source": [
    "#Votre code ici"
   ]
  },
  {
   "cell_type": "markdown",
   "metadata": {
    "id": "a-45-z3x6XLw"
   },
   "source": [
    "Q8. Qu'observez-vous ?"
   ]
  },
  {
   "cell_type": "markdown",
   "metadata": {
    "id": "rBGfoSaM66Ta"
   },
   "source": [
    "```markdown\n",
    "Votre réponse ici\n",
    "```"
   ]
  },
  {
   "cell_type": "markdown",
   "metadata": {
    "id": "Aw3U7mwq67mn"
   },
   "source": [
    "Q9. Enlevez les données aberrantes (outliers)"
   ]
  },
  {
   "cell_type": "code",
   "execution_count": null,
   "metadata": {
    "id": "_uiR78347EuM"
   },
   "outputs": [],
   "source": [
    "#Votre code ici"
   ]
  },
  {
   "cell_type": "markdown",
   "metadata": {
    "id": "iKXSZuhV7H-q"
   },
   "source": [
    "Q10. Comment avez-vous fait ? Quel seuil avez-vous choisi ?"
   ]
  },
  {
   "cell_type": "markdown",
   "metadata": {
    "id": "7tDIjrVc7M92"
   },
   "source": [
    "```markdown\n",
    "Votre réponse ici\n",
    "```"
   ]
  },
  {
   "cell_type": "markdown",
   "metadata": {
    "id": "EmZ7Ws1x7OIe"
   },
   "source": [
    "Q11. Y-a-t-il une corrélation entre taille du génome et nombre de gènes ?"
   ]
  },
  {
   "cell_type": "code",
   "execution_count": null,
   "metadata": {
    "id": "jquRl-Pz7THy"
   },
   "outputs": [],
   "source": [
    "#Votre code ici"
   ]
  },
  {
   "cell_type": "markdown",
   "metadata": {
    "id": "1op22x767Y2F"
   },
   "source": [
    "# Exercice 4: GC-content"
   ]
  },
  {
   "cell_type": "markdown",
   "metadata": {
    "id": "usMP4N887cQQ"
   },
   "source": [
    "Pour une séquence $s$, le contenu en GC est défini par :\n",
    "\n",
    "$GC(s)=\\frac{\\#G(s) + \\#C(s)}{|s|}$,\n",
    "\n",
    "où $\\#N(s)$ est le nombre de nucléotides $N$ dans la séquence $s$ et $|s|$ est la taille de $s$."
   ]
  },
  {
   "cell_type": "markdown",
   "metadata": {
    "id": "ToE1SWAI75NJ"
   },
   "source": [
    "Q1. Récuperrez legénome de l’organisme *Acidianus ambivalens* à partir du FTP :\n",
    "\n",
    "https://ftp.ncbi.nlm.nih.gov/genomes/genbank/archaea/\n",
    "\n",
    "(dans latest_assembly_versions/GCA_009729015.1_ASM972901v1, le fichier avec l'extension \"fna.gz\")\n"
   ]
  },
  {
   "cell_type": "markdown",
   "metadata": {
    "id": "ucshnQUQ83cV"
   },
   "source": [
    "Q2. Affichez le GC content global."
   ]
  },
  {
   "cell_type": "code",
   "execution_count": null,
   "metadata": {
    "id": "-QZhVkdH88dj"
   },
   "outputs": [],
   "source": [
    "#Votre code ici"
   ]
  },
  {
   "cell_type": "markdown",
   "metadata": {
    "id": "h9guJlTj89z9"
   },
   "source": [
    "Q3. Pour détecter des variations locales de GC, on va utiliser une fenêtre glissante de taille N nucléotides (démarrer à la position N/2 et finir à |s| -N/2).\n",
    "\n",
    "Affichez le GC content le long du génome pour des fenêtres de tailles 50, 1000 ou 10000."
   ]
  },
  {
   "cell_type": "code",
   "execution_count": null,
   "metadata": {
    "id": "qFJb63wB9P5K"
   },
   "outputs": [],
   "source": [
    "#Votre code ici"
   ]
  },
  {
   "cell_type": "markdown",
   "metadata": {
    "id": "ClZ57OAi9Ran"
   },
   "source": [
    "Q4. Qu’observez-vous ?"
   ]
  },
  {
   "cell_type": "markdown",
   "metadata": {
    "id": "EJpHpyNk9S8D"
   },
   "source": [
    "```markdown\n",
    "Votre réponse ici\n",
    "```"
   ]
  },
  {
   "cell_type": "markdown",
   "metadata": {
    "id": "gL-egRkq9bgj"
   },
   "source": [
    "Q5. On va lisser le signal pour le rendre moins bruité en utilisant la fonction *savgol_filter* de *scipy.signal* avec les paramètres $51$ et $5$."
   ]
  },
  {
   "cell_type": "code",
   "execution_count": null,
   "metadata": {
    "id": "vYbO1W0a9-Hz"
   },
   "outputs": [],
   "source": [
    "#Votre code ici"
   ]
  },
  {
   "cell_type": "markdown",
   "metadata": {
    "id": "W-X6zUqA9_du"
   },
   "source": [
    "Q6. Finalement, on va rendre le code générique pour n'importe quel espèce. Modifier votre code pour qu'il prenne en entrée un nom de fichier de génome du ftp, et une taille de fenêtre, et affiche le GC content global et local."
   ]
  },
  {
   "cell_type": "code",
   "execution_count": null,
   "metadata": {
    "id": "QHjLwSJ2-TkO"
   },
   "outputs": [],
   "source": [
    "#Votre code ici"
   ]
  }
 ],
 "metadata": {
  "colab": {
   "provenance": []
  },
  "kernelspec": {
   "display_name": "Python 3 (ipykernel)",
   "language": "python",
   "name": "python3"
  },
  "language_info": {
   "codemirror_mode": {
    "name": "ipython",
    "version": 3
   },
   "file_extension": ".py",
   "mimetype": "text/x-python",
   "name": "python",
   "nbconvert_exporter": "python",
   "pygments_lexer": "ipython3",
   "version": "3.10.12"
  }
 },
 "nbformat": 4,
 "nbformat_minor": 1
}
